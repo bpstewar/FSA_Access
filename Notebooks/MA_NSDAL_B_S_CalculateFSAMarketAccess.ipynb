{
 "cells": [
  {
   "cell_type": "code",
   "execution_count": 41,
   "metadata": {},
   "outputs": [],
   "source": [
    "import sys, os, importlib\n",
    "import rasterio\n",
    "\n",
    "import pandas as pd\n",
    "import geopandas as gpd\n",
    "import skimage.graph as graph\n",
    "\n",
    "from shapely.geometry import box\n",
    "\n",
    "sys.path.append('../../INFRA_SAP')\n",
    "\n",
    "import infrasap.market_access as ma  # performs market access\n",
    "import infrasap.rasterMisc as rMisc  # clips rasters and zonal stats\n",
    "import infrasap.UrbanRaster as urban # calculates urban populations"
   ]
  },
  {
   "cell_type": "code",
   "execution_count": 36,
   "metadata": {},
   "outputs": [],
   "source": [
    "#Define input datasets\n",
    "in_folder = \"../Data\"\n",
    "FSA_file = os.path.join(in_folder, \"FSAS\", \"lfsa000a16a_e.shp\")\n",
    "facilities_file = os.path.join(in_folder, \"HEALTH_FACILITIES\", \"fcb06d64-0960-492d-b93c-54cdb4440603202031-1-9da4d.f4ym6p.shp\")\n",
    "travel_surface = os.path.join(in_folder, \"TravelTime\", \"global_friction_surface.tif\")\n",
    "canada_pop = \"D:/Work/Canada/can_ppp_2020_1km_Aggregated_UNadj.tif\"\n",
    "\n",
    "inR = rasterio.open(travel_surface)\n",
    "inD = gpd.read_file(FSA_file)\n",
    "inD = inD.to_crs(inR.crs)\n",
    "inF = gpd.read_file(facilities_file)\n",
    "inF = inF.to_crs(inF.crs)\n",
    "# Select FSAs that intersect AOI\n",
    "facilities_extent = box(*inF.total_bounds)\n",
    "selD = inD.loc[inD['geometry'].apply(lambda x: x.intersects(facilities_extent))]\n",
    "\n",
    "# Extract local population\n",
    "inP = rasterio.open(canada_pop)\n",
    "pop_file = os.path.join(in_folder, \"wp_2020.tif\")\n",
    "rMisc.clipRaster(inP, selD, pop_file)"
   ]
  },
  {
   "cell_type": "code",
   "execution_count": 47,
   "metadata": {},
   "outputs": [],
   "source": [
    "# calculate urban\n",
    "urban_file = os.path.join(in_folder, \"urban.tif\")\n",
    "hd_urban_file = os.path.join(in_folder, \"hd_urban.tif\")\n",
    "ub_calc = urban.urbanGriddedPop(pop_file)\n",
    "urban = ub_calc.calculateUrban(raster = urban_file)\n",
    "hdurban = ub_calc.calculateUrban(densVal=1500, totalPopThresh=50000, smooth=True, queen=True, raster = hd_urban_file)"
   ]
  },
  {
   "cell_type": "code",
   "execution_count": 88,
   "metadata": {},
   "outputs": [],
   "source": [
    "# Create FSA centroids\n",
    "inD_centroids = selD.copy()\n",
    "inD_centroids['geometry'] = inD_centroids['geometry'].apply(lambda x: x.centroid)\n",
    "inD_centroids.to_file(facilities_file.replace(\".shp\", \"_centroids.geojson\"), driver=\"GeoJSON\")"
   ]
  },
  {
   "cell_type": "code",
   "execution_count": 28,
   "metadata": {},
   "outputs": [],
   "source": [
    "# Calculate traveltime to health facilities\n",
    "travelD = inR.read()\n",
    "travelD = travelD * 1000\n",
    "mcp = graph.MCP_Geometric(travelD[0,:,:])\n",
    "out_travel_time = os.path.join(in_folder, \"travel_time_longtermcare.tif\")\n",
    "\n",
    "costs, traceback = ma.calculate_travel_time(inR, mcp, inF, out_travel_time)"
   ]
  },
  {
   "cell_type": "code",
   "execution_count": 68,
   "metadata": {},
   "outputs": [],
   "source": [
    "# create combo population and travel time raster\n",
    "importlib.reload(rMisc)\n",
    "\n",
    "out_pop = os.path.join(in_folder, \"wp_2020_normalized.tif\")\n",
    "out_pop_tt = os.path.join(in_folder, \"wp_2020_tt.tif\")\n",
    "\n",
    "popR = rasterio.open(pop_file)\n",
    "ttR = rasterio.open(out_travel_time)\n",
    "rMisc.standardizeInputRasters(popR, ttR, out_pop)\n",
    "popR = rasterio.open(out_pop)\n",
    "popD = popR.read()\n",
    "ttD = ttR.read()\n",
    "tt_pop = popD * ttD\n",
    "tt_pop = tt_pop.astype(popR.meta['dtype'])\n",
    "with rasterio.open(out_pop_tt, 'w', **popR.meta) as out_pop:\n",
    "    out_pop.write(tt_pop)\n",
    "\n"
   ]
  },
  {
   "cell_type": "code",
   "execution_count": 76,
   "metadata": {},
   "outputs": [],
   "source": [
    "importlib.reload(rMisc)\n",
    "# Calculate centroid vs average traveltime\n",
    "res = rMisc.zonalStats(selD, out_travel_time, minVal=0)\n",
    "tt_res = pd.DataFrame(res, columns=['SUM','MIN','MAX','MEAN'])\n",
    "\n",
    "res = rMisc.zonalStats(selD, pop_file, minVal=0)\n",
    "tt_pop = pd.DataFrame(res, columns=['SUM','MIN','MAX','MEAN'])\n",
    "\n",
    "res = rMisc.zonalStats(selD, out_pop_tt, minVal=0)\n",
    "tt_pop_tt = pd.DataFrame(res, columns=['SUM','MIN','MAX','MEAN'])\n",
    "tt_pop_tt['SUM'] = tt_pop_tt['SUM'] / tt_pop['SUM']\n",
    "tt_pop_tt['MEAN'] = tt_pop_tt['MEAN'] / tt_pop['MEAN']"
   ]
  },
  {
   "cell_type": "code",
   "execution_count": 81,
   "metadata": {},
   "outputs": [
    {
     "name": "stderr",
     "output_type": "stream",
     "text": [
      "C:\\Users\\lordBen\\AppData\\Local\\conda\\conda\\envs\\Geog36\\lib\\site-packages\\ipykernel_launcher.py:1: SettingWithCopyWarning: \n",
      "A value is trying to be set on a copy of a slice from a DataFrame.\n",
      "Try using .loc[row_indexer,col_indexer] = value instead\n",
      "\n",
      "See the caveats in the documentation: https://pandas.pydata.org/pandas-docs/stable/user_guide/indexing.html#returning-a-view-versus-a-copy\n",
      "  \"\"\"Entry point for launching an IPython kernel.\n",
      "C:\\Users\\lordBen\\AppData\\Local\\conda\\conda\\envs\\Geog36\\lib\\site-packages\\ipykernel_launcher.py:2: SettingWithCopyWarning: \n",
      "A value is trying to be set on a copy of a slice from a DataFrame.\n",
      "Try using .loc[row_indexer,col_indexer] = value instead\n",
      "\n",
      "See the caveats in the documentation: https://pandas.pydata.org/pandas-docs/stable/user_guide/indexing.html#returning-a-view-versus-a-copy\n",
      "  \n",
      "C:\\Users\\lordBen\\AppData\\Local\\conda\\conda\\envs\\Geog36\\lib\\site-packages\\ipykernel_launcher.py:3: SettingWithCopyWarning: \n",
      "A value is trying to be set on a copy of a slice from a DataFrame.\n",
      "Try using .loc[row_indexer,col_indexer] = value instead\n",
      "\n",
      "See the caveats in the documentation: https://pandas.pydata.org/pandas-docs/stable/user_guide/indexing.html#returning-a-view-versus-a-copy\n",
      "  This is separate from the ipykernel package so we can avoid doing imports until\n"
     ]
    }
   ],
   "source": [
    "selD['POP'] = tt_pop['SUM']\n",
    "selD['TT_NORM'] = tt_res['MEAN']\n",
    "selD['TT_POP'] = tt_pop_tt['MEAN']"
   ]
  },
  {
   "cell_type": "code",
   "execution_count": 93,
   "metadata": {},
   "outputs": [
    {
     "name": "stderr",
     "output_type": "stream",
     "text": [
      "C:\\Users\\lordBen\\AppData\\Local\\conda\\conda\\envs\\Geog36\\lib\\site-packages\\ipykernel_launcher.py:3: SettingWithCopyWarning: \n",
      "A value is trying to be set on a copy of a slice from a DataFrame.\n",
      "Try using .loc[row_indexer,col_indexer] = value instead\n",
      "\n",
      "See the caveats in the documentation: https://pandas.pydata.org/pandas-docs/stable/user_guide/indexing.html#returning-a-view-versus-a-copy\n",
      "  This is separate from the ipykernel package so we can avoid doing imports until\n"
     ]
    }
   ],
   "source": [
    "centroid_geoms = [(x.x, x.y) for x in inD_centroids['geometry']]\n",
    "centroid_res = ttR.sample(centroid_geoms)\n",
    "selD['tt_CENTROID'] = [x[0] for x in list(centroid_res)]"
   ]
  },
  {
   "cell_type": "code",
   "execution_count": 95,
   "metadata": {},
   "outputs": [
    {
     "data": {
      "text/html": [
       "<div>\n",
       "<style scoped>\n",
       "    .dataframe tbody tr th:only-of-type {\n",
       "        vertical-align: middle;\n",
       "    }\n",
       "\n",
       "    .dataframe tbody tr th {\n",
       "        vertical-align: top;\n",
       "    }\n",
       "\n",
       "    .dataframe thead th {\n",
       "        text-align: right;\n",
       "    }\n",
       "</style>\n",
       "<table border=\"1\" class=\"dataframe\">\n",
       "  <thead>\n",
       "    <tr style=\"text-align: right;\">\n",
       "      <th></th>\n",
       "      <th>CFSAUID</th>\n",
       "      <th>PRUID</th>\n",
       "      <th>PRNAME</th>\n",
       "      <th>geometry</th>\n",
       "      <th>POP</th>\n",
       "      <th>TT_NORM</th>\n",
       "      <th>TT_POP</th>\n",
       "      <th>tt_CENTROID</th>\n",
       "    </tr>\n",
       "  </thead>\n",
       "  <tbody>\n",
       "    <tr>\n",
       "      <th>0</th>\n",
       "      <td>B0S</td>\n",
       "      <td>12</td>\n",
       "      <td>Nova Scotia / Nouvelle-Écosse</td>\n",
       "      <td>POLYGON ((-65.01952 45.05329, -65.01952 45.053...</td>\n",
       "      <td>16789.140625</td>\n",
       "      <td>37.045488</td>\n",
       "      <td>9.565978</td>\n",
       "      <td>36.255844</td>\n",
       "    </tr>\n",
       "    <tr>\n",
       "      <th>1</th>\n",
       "      <td>B0T</td>\n",
       "      <td>12</td>\n",
       "      <td>Nova Scotia / Nouvelle-Écosse</td>\n",
       "      <td>POLYGON ((-64.87545 44.47682, -64.86791 44.470...</td>\n",
       "      <td>14859.835938</td>\n",
       "      <td>55.296662</td>\n",
       "      <td>10.222946</td>\n",
       "      <td>143.320558</td>\n",
       "    </tr>\n",
       "    <tr>\n",
       "      <th>2</th>\n",
       "      <td>B0V</td>\n",
       "      <td>12</td>\n",
       "      <td>Nova Scotia / Nouvelle-Écosse</td>\n",
       "      <td>POLYGON ((-65.69960 44.60913, -65.69984 44.609...</td>\n",
       "      <td>5707.965820</td>\n",
       "      <td>37.038879</td>\n",
       "      <td>6.706394</td>\n",
       "      <td>34.643701</td>\n",
       "    </tr>\n",
       "    <tr>\n",
       "      <th>3</th>\n",
       "      <td>B0W</td>\n",
       "      <td>12</td>\n",
       "      <td>Nova Scotia / Nouvelle-Écosse</td>\n",
       "      <td>POLYGON ((-65.63450 44.55529, -65.61838 44.540...</td>\n",
       "      <td>25763.494141</td>\n",
       "      <td>65.585466</td>\n",
       "      <td>12.260307</td>\n",
       "      <td>22.724979</td>\n",
       "    </tr>\n",
       "    <tr>\n",
       "      <th>4</th>\n",
       "      <td>B1S</td>\n",
       "      <td>12</td>\n",
       "      <td>Nova Scotia / Nouvelle-Écosse</td>\n",
       "      <td>POLYGON ((-60.18769 46.13066, -60.18747 46.130...</td>\n",
       "      <td>10150.089844</td>\n",
       "      <td>2.324821</td>\n",
       "      <td>1.163623</td>\n",
       "      <td>0.600000</td>\n",
       "    </tr>\n",
       "  </tbody>\n",
       "</table>\n",
       "</div>"
      ],
      "text/plain": [
       "  CFSAUID PRUID                         PRNAME  \\\n",
       "0     B0S    12  Nova Scotia / Nouvelle-Écosse   \n",
       "1     B0T    12  Nova Scotia / Nouvelle-Écosse   \n",
       "2     B0V    12  Nova Scotia / Nouvelle-Écosse   \n",
       "3     B0W    12  Nova Scotia / Nouvelle-Écosse   \n",
       "4     B1S    12  Nova Scotia / Nouvelle-Écosse   \n",
       "\n",
       "                                            geometry           POP    TT_NORM  \\\n",
       "0  POLYGON ((-65.01952 45.05329, -65.01952 45.053...  16789.140625  37.045488   \n",
       "1  POLYGON ((-64.87545 44.47682, -64.86791 44.470...  14859.835938  55.296662   \n",
       "2  POLYGON ((-65.69960 44.60913, -65.69984 44.609...   5707.965820  37.038879   \n",
       "3  POLYGON ((-65.63450 44.55529, -65.61838 44.540...  25763.494141  65.585466   \n",
       "4  POLYGON ((-60.18769 46.13066, -60.18747 46.130...  10150.089844   2.324821   \n",
       "\n",
       "      TT_POP  tt_CENTROID  \n",
       "0   9.565978    36.255844  \n",
       "1  10.222946   143.320558  \n",
       "2   6.706394    34.643701  \n",
       "3  12.260307    22.724979  \n",
       "4   1.163623     0.600000  "
      ]
     },
     "execution_count": 95,
     "metadata": {},
     "output_type": "execute_result"
    }
   ],
   "source": [
    "selD.head()"
   ]
  },
  {
   "cell_type": "code",
   "execution_count": 94,
   "metadata": {},
   "outputs": [],
   "source": [
    "selD.to_file(os.path.join(in_folder, \"FSA_attributed.geojson\"), driver=\"GeoJSON\")"
   ]
  }
 ],
 "metadata": {
  "kernelspec": {
   "display_name": "Python (geog)",
   "language": "python",
   "name": "geog36"
  },
  "language_info": {
   "codemirror_mode": {
    "name": "ipython",
    "version": 3
   },
   "file_extension": ".py",
   "mimetype": "text/x-python",
   "name": "python",
   "nbconvert_exporter": "python",
   "pygments_lexer": "ipython3",
   "version": "3.6.6"
  }
 },
 "nbformat": 4,
 "nbformat_minor": 2
}
